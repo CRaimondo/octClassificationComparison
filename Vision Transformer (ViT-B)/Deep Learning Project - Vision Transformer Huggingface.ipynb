{
 "cells": [
  {
   "cell_type": "code",
   "execution_count": 1,
   "metadata": {},
   "outputs": [],
   "source": [
    "import sys\n",
    "from sklearn.metrics import roc_auc_score\n",
    "from sklearn.metrics import auc\n",
    "import matplotlib.pyplot as plt\n",
    "import random\n",
    "import numpy as np\n",
    "import torch\n",
    "import pandas as pd\n",
    "import torch\n",
    "import torch.nn.functional as f\n",
    "from torch.utils.data import Dataset, DataLoader\n",
    "import torch.optim as optim\n",
    "import torch.nn as nn\n",
    "import time\n",
    "from tqdm import trange\n",
    "import pandas as pd\n",
    "import math\n",
    "import matplotlib.pyplot as plt\n",
    "import numpy as np\n",
    "from PIL import Image, UnidentifiedImageError\n",
    "from pathlib import Path\n",
    "import torch\n",
    "import glob\n",
    "from huggingface_hub import HfApi, Repository\n",
    "from torchvision.datasets import ImageFolder\n",
    "from transformers import ViTFeatureExtractor, ViTForImageClassification, ViTConfig\n",
    "from torchvision.transforms import ToTensor"
   ]
  },
  {
   "cell_type": "code",
   "execution_count": 2,
   "metadata": {},
   "outputs": [],
   "source": [
    "def setup_seed(seed): \n",
    "    torch.manual_seed(seed) \n",
    "    torch.cuda.manual_seed_all(seed) \n",
    "    np.random.seed(seed) \n",
    "    random.seed(seed) \n",
    "    torch.backends.cudnn.deterministic = True\n",
    "setup_seed(0)"
   ]
  },
  {
   "cell_type": "code",
   "execution_count": 3,
   "metadata": {},
   "outputs": [
    {
     "name": "stdout",
     "output_type": "stream",
     "text": [
      "Using device: cuda\n",
      "Tesla V100-SXM2-32GB-LS\n",
      "Memory Usage:\n",
      "Allocated: 0.0 GB\n",
      "Cached:    0.0 GB\n"
     ]
    }
   ],
   "source": [
    "device = torch.device('cuda' if torch.cuda.is_available() else 'cpu')\n",
    "print('Using device:', device)\n",
    "if device.type == 'cuda':\n",
    "    print(torch.cuda.get_device_name(0))\n",
    "    print('Memory Usage:')\n",
    "    print('Allocated:', round(torch.cuda.memory_allocated(0)/10243,1), 'GB')\n",
    "    print('Cached:   ', round(torch.cuda.memory_reserved(0)/10243,1), 'GB')"
   ]
  },
  {
   "cell_type": "markdown",
   "metadata": {},
   "source": [
    "## HuggingFace"
   ]
  },
  {
   "cell_type": "code",
   "execution_count": 4,
   "metadata": {},
   "outputs": [],
   "source": [
    "data_dir = Path(\"./OCT/train\")"
   ]
  },
  {
   "cell_type": "code",
   "execution_count": 5,
   "metadata": {},
   "outputs": [],
   "source": [
    "ds=ImageFolder(data_dir)\n",
    "test_ds = ImageFolder('./OCT/test/')\n",
    "indices = torch. randperm(len(ds)).tolist()\n",
    "n_val = math.floor(len(indices) * .2)\n",
    "train_ds = torch.utils.data.Subset(ds, indices[:-n_val])\n",
    "val_ds = torch.utils.data.Subset(ds, indices[-n_val:])\n",
    "\n",
    "#Data Subset for tuning and experimenting\n",
    "# train_ds = torch.utils.data.Subset(ds, indices[:1000])\n",
    "# val_ds = torch.utils.data.Subset(ds, indices[108200:])"
   ]
  },
  {
   "cell_type": "code",
   "execution_count": 6,
   "metadata": {},
   "outputs": [
    {
     "data": {
      "text/plain": [
       "86648"
      ]
     },
     "execution_count": 6,
     "metadata": {},
     "output_type": "execute_result"
    }
   ],
   "source": [
    "len(train_ds)"
   ]
  },
  {
   "cell_type": "code",
   "execution_count": 7,
   "metadata": {},
   "outputs": [],
   "source": [
    "label2id = {}\n",
    "id2label = {}\n",
    "for i, class_name in enumerate(ds.classes):\n",
    "    label2id[class_name] = str(i)\n",
    "    id2label[str(i)] = class_name"
   ]
  },
  {
   "cell_type": "code",
   "execution_count": 8,
   "metadata": {},
   "outputs": [],
   "source": [
    "class ImageClassificationCollator:\n",
    "    def __init__(self, feature_extractor): \n",
    "        self.feature_extractor = feature_extractor\n",
    "    def __call__(self, batch):  \n",
    "        encodings = self.feature_extractor([x[0] for x in batch], return_tensors='pt')   \n",
    "        encodings['labels'] = torch.tensor([x[1] for x in batch], dtype=torch.long)\n",
    "        return encodings"
   ]
  },
  {
   "cell_type": "code",
   "execution_count": 9,
   "metadata": {},
   "outputs": [],
   "source": [
    "feature_extractor = ViTFeatureExtractor.from_pretrained('google/vit-base-patch16-224-in21k')\n",
    "\n",
    "collator = ImageClassificationCollator(feature_extractor)\n",
    "loader = {'train':DataLoader(train_ds, batch_size=32, collate_fn=collator, num_workers=8, shuffle=True),\n",
    "         'validate':DataLoader(val_ds, batch_size=32, collate_fn=collator, num_workers=8)}\n",
    "\n",
    "# model = ViTForImageClassification.from_pretrained(\n",
    "#     'google/vit-base-patch16-224-in21k',\n",
    "#     num_labels=len(label2id),\n",
    "#     label2id=label2id,\n",
    "#     id2label=id2label\n",
    "# )\n",
    "\n",
    "# Final Pretrained Model Mentioned in Paper\n",
    "model = ViTForImageClassification.from_pretrained(\"ViT-B-Trained_OCT\")"
   ]
  },
  {
   "cell_type": "code",
   "execution_count": 10,
   "metadata": {},
   "outputs": [
    {
     "data": {
      "text/plain": [
       "85801732"
      ]
     },
     "execution_count": 10,
     "metadata": {},
     "output_type": "execute_result"
    }
   ],
   "source": [
    "model\n",
    "def count_parameters(model):\n",
    "    return sum(p.numel() for p in model.parameters() if p.requires_grad)\n",
    "count_parameters(model)"
   ]
  },
  {
   "cell_type": "code",
   "execution_count": 11,
   "metadata": {},
   "outputs": [],
   "source": [
    "def train_model(model, dataloader, optimizer, scheduler, loss_fn, num_epochs, patience = 5, verbose = False, early_stopping=False):\n",
    "    acc_dict = {'train':[],'validate':[]}\n",
    "    loss_dict = {'train':[],'validate':[]}\n",
    "    best_acc = 0\n",
    "    phases = ['train','validate']\n",
    "    since = time.time()\n",
    "    y_pred = []\n",
    "    y_true = []\n",
    "    the_last_loss = 100\n",
    "    patience = patience\n",
    "    trigger_times = 0\n",
    "    \n",
    "    for i in trange(num_epochs):\n",
    "        print('Epoch: {}/{}'.format(i+1, num_epochs))\n",
    "        print('-'*10)\n",
    "        for p in phases:\n",
    "            running_correct = 0\n",
    "            running_loss = 0\n",
    "            running_total = 0\n",
    "            if p == 'train':\n",
    "                model.train()\n",
    "            else:\n",
    "                model.eval()\n",
    "                \n",
    "            for data in dataloader[p]:\n",
    "                optimizer.zero_grad()\n",
    "                image = data['pixel_values'].to(device)\n",
    "                label = data['labels'].to(device)\n",
    "                imageclassification = model(image)\n",
    "                output = imageclassification.logits\n",
    "                loss = loss_fn(output, label)\n",
    "                _, preds = torch.max(output, dim = 1)\n",
    "                num_imgs = image.size()[0]\n",
    "                running_correct += torch.sum(preds ==label).item()\n",
    "                running_loss += loss.item()*num_imgs\n",
    "                running_total += num_imgs\n",
    "                if p== 'train':\n",
    "                    loss.backward()\n",
    "                    optimizer.step()\n",
    "                if p== 'validate':\n",
    "                    if i == num_epochs-1:\n",
    "                        y_pred.append(torch.Tensor.cpu(preds).numpy()) \n",
    "                        y_true.append(torch.Tensor.cpu(label).numpy())\n",
    "                       \n",
    "            epoch_acc = float(running_correct/running_total)\n",
    "            epoch_loss = float(running_loss/running_total)\n",
    "            \n",
    "            \n",
    "            acc_dict[p].append(epoch_acc)\n",
    "            loss_dict[p].append(epoch_loss)\n",
    "            if p == 'validate':\n",
    "                if epoch_acc > best_acc:\n",
    "                    best_acc = epoch_acc\n",
    "                    best_model_wts = model.state_dict()\n",
    "                if early_stopping == True:\n",
    "                    the_current_loss = validation(model, dataloader, loss_fn)\n",
    "                    print('The current loss:', the_current_loss, 'The last loss:', the_last_loss)\n",
    "                    if the_current_loss > the_last_loss:\n",
    "                        trigger_times += 1\n",
    "                        print('trigger times:', trigger_times)\n",
    "\n",
    "                    if trigger_times >= patience:\n",
    "                        print('Early stopping!\\nStart to test process.')\n",
    "                        time_elapsed = time.time() - since\n",
    "                        print('Training complete in {:.0f}m {:.0f}s'.format(time_elapsed // 60, time_elapsed % 60))\n",
    "                        print('Best val acc: {:4f}'.format(best_acc))\n",
    "                        return model, acc_dict, loss_dict, y_pred, y_true\n",
    "                        break\n",
    "\n",
    "                    if the_current_loss < the_last_loss:\n",
    "                        the_last_loss = the_current_loss\n",
    "                        print('trigger times', trigger_times)\n",
    "            \n",
    "            if verbose or (i%10 == 0):\n",
    "                print('Phase:{}, epoch loss: {:.4f} Acc: {:.4f}'.format(p, epoch_loss, epoch_acc))\n",
    "            if scheduler:\n",
    "                scheduler.step(epoch_loss)                    \n",
    "    time_elapsed = time.time() - since\n",
    "    print('Training complete in {:.0f}m {:.0f}s'.format(time_elapsed // 60, time_elapsed % 60))\n",
    "    print('Best val acc: {:4f}'.format(best_acc))\n",
    "    \n",
    "    \n",
    "    return model, acc_dict, loss_dict, y_pred, y_true"
   ]
  },
  {
   "cell_type": "code",
   "execution_count": 14,
   "metadata": {},
   "outputs": [
    {
     "name": "stderr",
     "output_type": "stream",
     "text": [
      "\r",
      "  0%|          | 0/5 [00:00<?, ?it/s]"
     ]
    },
    {
     "name": "stdout",
     "output_type": "stream",
     "text": [
      "Epoch: 1/5\n",
      "----------\n",
      "Phase:train, epoch loss: 0.1723 Acc: 0.9500\n"
     ]
    },
    {
     "name": "stderr",
     "output_type": "stream",
     "text": [
      "\r",
      " 20%|██        | 1/5 [16:57<1:07:49, 1017.42s/it]"
     ]
    },
    {
     "name": "stdout",
     "output_type": "stream",
     "text": [
      "Phase:validate, epoch loss: 0.1082 Acc: 0.9652\n",
      "Epoch: 2/5\n",
      "----------\n",
      "Phase:train, epoch loss: 0.0804 Acc: 0.9748\n"
     ]
    },
    {
     "name": "stderr",
     "output_type": "stream",
     "text": [
      "\r",
      " 40%|████      | 2/5 [33:54<50:51, 1017.03s/it]  "
     ]
    },
    {
     "name": "stdout",
     "output_type": "stream",
     "text": [
      "Phase:validate, epoch loss: 0.1161 Acc: 0.9623\n",
      "Epoch: 3/5\n",
      "----------\n",
      "Phase:train, epoch loss: 0.0524 Acc: 0.9845\n"
     ]
    },
    {
     "name": "stderr",
     "output_type": "stream",
     "text": [
      "\r",
      " 60%|██████    | 3/5 [50:51<33:54, 1017.01s/it]"
     ]
    },
    {
     "name": "stdout",
     "output_type": "stream",
     "text": [
      "Phase:validate, epoch loss: 0.0950 Acc: 0.9708\n",
      "Epoch: 4/5\n",
      "----------\n",
      "Phase:train, epoch loss: 0.0373 Acc: 0.9894\n"
     ]
    },
    {
     "name": "stderr",
     "output_type": "stream",
     "text": [
      "\r",
      " 80%|████████  | 4/5 [1:07:48<16:57, 1017.10s/it]"
     ]
    },
    {
     "name": "stdout",
     "output_type": "stream",
     "text": [
      "Phase:validate, epoch loss: 0.1012 Acc: 0.9698\n",
      "Epoch: 5/5\n",
      "----------\n",
      "Phase:train, epoch loss: 0.0293 Acc: 0.9916\n"
     ]
    },
    {
     "name": "stderr",
     "output_type": "stream",
     "text": [
      "100%|██████████| 5/5 [1:24:45<00:00, 1017.02s/it]"
     ]
    },
    {
     "name": "stdout",
     "output_type": "stream",
     "text": [
      "Phase:validate, epoch loss: 0.1022 Acc: 0.9710\n",
      "Training complete in 84m 45s\n",
      "Best val acc: 0.970962\n"
     ]
    },
    {
     "name": "stderr",
     "output_type": "stream",
     "text": [
      "\n"
     ]
    }
   ],
   "source": [
    "loss_fn = nn.CrossEntropyLoss()\n",
    "optimizer = torch.optim.Adam(model.parameters(), lr = 2e-5)\n",
    "lambda_func = lambda epoch: 0.5 ** epoch\n",
    "scheduler = torch.optim.lr_scheduler.ReduceLROnPlateau(optimizer, 'min')\n",
    "\n",
    "model, acc_dict, loss_dict, y_pred, y_true = train_model(model.to(device), loader, optimizer, scheduler, loss_fn, num_epochs=5, verbose = True)"
   ]
  },
  {
   "cell_type": "code",
   "execution_count": 15,
   "metadata": {},
   "outputs": [
    {
     "data": {
      "text/plain": [
       "<matplotlib.legend.Legend at 0x14be7ac8ed30>"
      ]
     },
     "execution_count": 15,
     "metadata": {},
     "output_type": "execute_result"
    },
    {
     "data": {
      "image/png": "[encoded data removed]",
      "text/plain": [
       "<Figure size 1152x576 with 2 Axes>"
      ]
     },
     "metadata": {
      "needs_background": "light"
     },
     "output_type": "display_data"
    }
   ],
   "source": [
    "# Plotting loss and accuracy\n",
    "fig, axs = plt.subplots(1,2,figsize=(16,8))\n",
    "axs[0].plot(loss_dict['train'], color='blue', label='train loss')\n",
    "axs[0].plot(loss_dict['validate'], color='red', label='validataion loss')\n",
    "axs[1].plot(acc_dict['train'], color = 'blue', label='train accuracy')\n",
    "axs[1].plot(acc_dict['validate'], color = 'red', label='valid accuracy')\n",
    "axs[0].set_title(\"Epoch Loss\")\n",
    "axs[1].set_title(\"Epoch Accuracy \")\n",
    "axs[0].legend(loc='center left')\n",
    "axs[1].legend(loc='center left')"
   ]
  },
  {
   "cell_type": "code",
   "execution_count": 29,
   "metadata": {},
   "outputs": [],
   "source": [
    "#Saving final trained model weights\n",
    "# model.save_pretrained(\"ViT-B-Trained_OCT_Improved\")"
   ]
  },
  {
   "cell_type": "code",
   "execution_count": 12,
   "metadata": {},
   "outputs": [],
   "source": [
    "# model = ViTForImageClassification.from_pretrained('ViT-B-Trained_OCT')"
   ]
  },
  {
   "cell_type": "markdown",
   "metadata": {},
   "source": [
    "### Test ViT Model"
   ]
  },
  {
   "cell_type": "code",
   "execution_count": 12,
   "metadata": {},
   "outputs": [],
   "source": [
    "def evaluate_model(model, dataloader, loss_fn):\n",
    "    model.eval()\n",
    "    running_correct = 0\n",
    "    running_loss = 0\n",
    "    running_total = 0\n",
    "    y_hat = []\n",
    "    y_true = []\n",
    "    \n",
    "    for data in dataloader:\n",
    "        image = data['pixel_values'].to(device)\n",
    "        label = data['labels'].to(device)\n",
    "        imageclassification = model(image)\n",
    "        output = imageclassification.logits\n",
    "        loss = loss_fn(output, label)\n",
    "        _, preds = torch.max(output,dim = 1)\n",
    "        y_hat.append(preds.cpu().numpy())\n",
    "        y_true.append(label.cpu().numpy())\n",
    "        num_imgs = image.size()[0]\n",
    "        running_correct += torch.sum(preds ==label).item()\n",
    "        running_loss += loss.item()*num_imgs\n",
    "        running_total += num_imgs\n",
    "        \n",
    "    accuracy = float(running_correct/running_total)\n",
    "    loss = float(running_loss/running_total)\n",
    "    y_hat = np.concatenate(y_hat)\n",
    "    y_true = np.concatenate(y_true)\n",
    "    \n",
    "    return accuracy, loss, y_hat, y_true"
   ]
  },
  {
   "cell_type": "code",
   "execution_count": 13,
   "metadata": {},
   "outputs": [],
   "source": [
    "test_loader = DataLoader(test_ds, batch_size=32, collate_fn=collator, num_workers=8, shuffle=False)"
   ]
  },
  {
   "cell_type": "code",
   "execution_count": 14,
   "metadata": {},
   "outputs": [],
   "source": [
    "loss_fn = nn.CrossEntropyLoss()\n",
    "model1_acc, model1_loss, y_hat, y_true = evaluate_model(model.to(device), test_loader, loss_fn)"
   ]
  },
  {
   "cell_type": "code",
   "execution_count": 15,
   "metadata": {},
   "outputs": [
    {
     "name": "stdout",
     "output_type": "stream",
     "text": [
      "0.0997178371977061\n",
      "96.89999999999999%\n",
      "[0 0 0 0 0 0 0 0 0 0]\n",
      "[0 0 0 0 0 0 0 0 0 0]\n"
     ]
    }
   ],
   "source": [
    "print(model1_loss)\n",
    "print(f'{model1_acc*100}%')\n",
    "print(y_true[:10])\n",
    "print(y_hat[:10])"
   ]
  },
  {
   "cell_type": "code",
   "execution_count": 16,
   "metadata": {},
   "outputs": [],
   "source": [
    "def ROC_curve(y_test,y_score):\n",
    "    fpr = dict()\n",
    "    tpr = dict()\n",
    "    roc_auc = dict()\n",
    "    n_classes = y_test.shape[1]\n",
    "    for i in range(n_classes):\n",
    "        fpr[i], tpr[i], _ = roc_curve(y_test[:, i], y_score[:, i])\n",
    "        roc_auc[i] = auc(fpr[i], tpr[i])\n",
    "\n",
    "    colors = cycle(['aqua', 'darkorange', 'cornflowerblue'])\n",
    "    lw = 2\n",
    "    for i, color in zip(range(n_classes), colors):\n",
    "        plt.plot(fpr[i], tpr[i], color=color, lw=lw,\n",
    "                 label='ROC curve of class {0} (area = {1:0.2f})'\n",
    "                 ''.format(i, roc_auc[i]))\n",
    "    plt.plot([0, 1], [0, 1], 'k--', lw=lw)\n",
    "    plt.xlim([0.0, 1.0])\n",
    "    plt.ylim([0.0, 1.05])\n",
    "    plt.xlabel('False Positive Rate')\n",
    "    plt.ylabel('True Positive Rate')\n",
    "    plt.title('Some extension of Receiver operating characteristic to multi-class')\n",
    "    plt.legend(loc=\"lower right\")\n",
    "    plt.show()\n",
    "    return None\n"
   ]
  },
  {
   "cell_type": "code",
   "execution_count": 17,
   "metadata": {},
   "outputs": [
    {
     "ename": "NameError",
     "evalue": "name 'roc_curve' is not defined",
     "output_type": "error",
     "traceback": [
      "\u001b[0;31m---------------------------------------------------------------------------\u001b[0m",
      "\u001b[0;31mNameError\u001b[0m                                 Traceback (most recent call last)",
      "\u001b[0;32m<ipython-input-17-6f6e910a89c2>\u001b[0m in \u001b[0;36m<module>\u001b[0;34m\u001b[0m\n\u001b[1;32m     14\u001b[0m     \u001b[0mtrue_labels_test\u001b[0m \u001b[0;34m=\u001b[0m \u001b[0mlabel_binarize_classes\u001b[0m\u001b[0;34m(\u001b[0m\u001b[0my_true\u001b[0m\u001b[0;34m,\u001b[0m \u001b[0mi\u001b[0m\u001b[0;34m)\u001b[0m\u001b[0;34m\u001b[0m\u001b[0;34m\u001b[0m\u001b[0m\n\u001b[1;32m     15\u001b[0m     \u001b[0mpred_labels_test\u001b[0m \u001b[0;34m=\u001b[0m \u001b[0mlabel_binarize_classes\u001b[0m\u001b[0;34m(\u001b[0m\u001b[0my_hat\u001b[0m\u001b[0;34m,\u001b[0m \u001b[0mi\u001b[0m\u001b[0;34m)\u001b[0m\u001b[0;34m\u001b[0m\u001b[0;34m\u001b[0m\u001b[0m\n\u001b[0;32m---> 16\u001b[0;31m     \u001b[0mfpr\u001b[0m\u001b[0;34m,\u001b[0m \u001b[0mtpr\u001b[0m\u001b[0;34m,\u001b[0m \u001b[0mthresholds\u001b[0m \u001b[0;34m=\u001b[0m \u001b[0mroc_curve\u001b[0m\u001b[0;34m(\u001b[0m\u001b[0mtrue_labels_test\u001b[0m\u001b[0;34m,\u001b[0m \u001b[0mpred_labels_test\u001b[0m\u001b[0;34m)\u001b[0m\u001b[0;34m\u001b[0m\u001b[0;34m\u001b[0m\u001b[0m\n\u001b[0m\u001b[1;32m     17\u001b[0m     \u001b[0mauc\u001b[0m \u001b[0;34m=\u001b[0m \u001b[0mroc_auc_score\u001b[0m\u001b[0;34m(\u001b[0m\u001b[0mtrue_labels_test\u001b[0m\u001b[0;34m,\u001b[0m \u001b[0mpred_labels_test\u001b[0m\u001b[0;34m)\u001b[0m\u001b[0;34m\u001b[0m\u001b[0;34m\u001b[0m\u001b[0m\n\u001b[1;32m     18\u001b[0m \u001b[0;34m\u001b[0m\u001b[0m\n",
      "\u001b[0;31mNameError\u001b[0m: name 'roc_curve' is not defined"
     ]
    }
   ],
   "source": [
    "# Plot ROC\n",
    "classes = range(len(np.unique(y_hat)))\n",
    "\n",
    "def label_binarize_classes(classes, a):\n",
    "    label_class = []\n",
    "    for label in classes:\n",
    "        if label == a:\n",
    "            label_class.append(1)\n",
    "        else:\n",
    "            label_class.append(0)\n",
    "    return label_class\n",
    "\n",
    "for i in classes:\n",
    "    true_labels_test = label_binarize_classes(y_true, i)\n",
    "    pred_labels_test = label_binarize_classes(y_hat, i)\n",
    "    fpr, tpr, thresholds = roc_curve(true_labels_test, pred_labels_test)\n",
    "    auc = roc_auc_score(true_labels_test, pred_labels_test)\n",
    "\n",
    "    print('Class ' + str(i),'=','AUC ' + str(auc))\n",
    "    \n",
    "    plt.figure(figsize=(10,4))\n",
    "    plt.title('ROC Curve Class '+str(i))\n",
    "    plt.plot(fpr,tpr,color ='blue')\n",
    "    plt.plot([0,1],[0,1],\"k--\")\n",
    "    plt.xlim([0,1])\n",
    "    plt.ylim([0,1])\n",
    "    plt.xlabel('False positive rate')\n",
    "    plt.ylabel('True positive rate')"
   ]
  },
  {
   "cell_type": "code",
   "execution_count": 20,
   "metadata": {},
   "outputs": [],
   "source": [
    "# Confusion Matrix\n",
    "from sklearn.metrics import  confusion_matrix, roc_curve, auc\n",
    "import itertools  \n",
    "\n",
    "def plot_confusion_matrix(cm, classes,\n",
    "                          normalize=True,\n",
    "                          title='Confusion matrix',\n",
    "                          cmap=plt.cm.Blues):\n",
    "    \"\"\"\n",
    "    This function prints and plots the confusion matrix.\n",
    "    Normalization can be applied by setting `normalize=True`.\n",
    "    \"\"\"\n",
    "    if normalize:\n",
    "        cm = cm / cm.sum(axis=1)[:, np.newaxis]\n",
    "        print(\"Normalized confusion matrix\")\n",
    "    else:\n",
    "        print('Confusion matrix, without normalization')\n",
    "\n",
    "    print(cm)\n",
    "\n",
    "    plt.imshow(cm, interpolation='nearest', cmap=cmap)\n",
    "    plt.title(title)\n",
    "    plt.colorbar()\n",
    "    tick_marks = np.arange(len(classes))\n",
    "    plt.xticks(tick_marks, classes, rotation=45)\n",
    "    plt.yticks(tick_marks, classes)\n",
    "\n",
    "    fmt = '.2f' if normalize else 'd'\n",
    "    thresh = cm.max() / 2.\n",
    "    for i, j in itertools.product(range(cm.shape[0]), range(cm.shape[1])):\n",
    "        plt.text(j, i, format(cm[i, j], fmt),\n",
    "                 horizontalalignment=\"center\",\n",
    "                 color=\"white\" if cm[i, j] > thresh else \"black\")\n",
    "\n",
    "    plt.tight_layout()\n",
    "    plt.ylabel('True label')\n",
    "    plt.xlabel('Predicted label')\n",
    "\n",
    "# Compute confusion matrix\n",
    "def cm(y_true, y_pred):\n",
    "    cnf_matrix = confusion_matrix(y_true, y_pred)\n",
    "    np.set_printoptions(precision=2)\n",
    "    plt.figure()\n",
    "    class_names = ['0: CNV','1: DME','2: DRUSEN','3: Normal']\n",
    "    plot_confusion_matrix(cnf_matrix, classes=class_names,\n",
    "                          title='Confusion matrix')"
   ]
  },
  {
   "cell_type": "code",
   "execution_count": 21,
   "metadata": {},
   "outputs": [
    {
     "name": "stdout",
     "output_type": "stream",
     "text": [
      "Normalized confusion matrix\n",
      "[[1.   0.   0.   0.  ]\n",
      " [0.01 0.99 0.   0.  ]\n",
      " [0.08 0.   0.9  0.01]\n",
      " [0.   0.   0.01 0.99]]\n"
     ]
    },
    {
     "data": {
      "image/png": "[encoded data removed]",
      "text/plain": [
       "<Figure size 432x288 with 2 Axes>"
      ]
     },
     "metadata": {
      "needs_background": "light"
     },
     "output_type": "display_data"
    }
   ],
   "source": [
    "# Confusion Matrix for CNN_model_CXR0\n",
    "cm(y_true, y_hat)"
   ]
  },
  {
   "cell_type": "code",
   "execution_count": 18,
   "metadata": {},
   "outputs": [
    {
     "name": "stdout",
     "output_type": "stream",
     "text": [
      "              precision    recall  f1-score   support\n",
      "\n",
      "      0: CNV       0.92      1.00      0.95       250\n",
      "      1: DME       0.99      0.99      0.99       250\n",
      "   2: DRUSEN       0.99      0.90      0.94       250\n",
      "   3: Normal       0.99      0.99      0.99       250\n",
      "\n",
      "    accuracy                           0.97      1000\n",
      "   macro avg       0.97      0.97      0.97      1000\n",
      "weighted avg       0.97      0.97      0.97      1000\n",
      "\n"
     ]
    }
   ],
   "source": [
    "from sklearn.metrics import classification_report\n",
    "class_names = ['0: CNV','1: DME','2: DRUSEN','3: Normal']\n",
    "\n",
    "classificationreport = classification_report(y_true, y_hat, target_names = class_names)\n",
    "print(classificationreport)"
   ]
  }
 ],
 "metadata": {
  "kernelspec": {
   "display_name": "Python 3",
   "language": "python",
   "name": "python3"
  },
  "language_info": {
   "codemirror_mode": {
    "name": "ipython",
    "version": 3
   },
   "file_extension": ".py",
   "mimetype": "text/x-python",
   "name": "python",
   "nbconvert_exporter": "python",
   "pygments_lexer": "ipython3",
   "version": "3.8.6"
  }
 },
 "nbformat": 4,
 "nbformat_minor": 5
}
